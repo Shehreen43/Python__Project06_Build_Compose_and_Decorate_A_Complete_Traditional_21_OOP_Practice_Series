{
 "cells": [
  {
   "cell_type": "markdown",
   "id": "50d533a0",
   "metadata": {},
   "source": [
    "<h1 style=\"color: LightSeaGreen;\"><b><i>1. Using self</i></b></h1>\n",
    "Assignment:\n",
    "Create a class Student with attributes name and marks. Use the self keyword to initialize these values via a constructor. Add a method display() that prints student details.\n",
    "\n"
   ]
  },
  {
   "cell_type": "code",
   "execution_count": null,
   "id": "83421c8d",
   "metadata": {},
   "outputs": [],
   "source": [
    "class Student():\n",
    "    def __init__(self, name, marks):\n",
    "        self.name = name\n",
    "        self.marks = marks\n",
    "\n",
    "    def display(self):\n",
    "        print(f\"Student Details:\")\n",
    "        print(f\"Student Name: {self.name}\\nStudent Marks: {self.marks}\")\n",
    "\n",
    "\n",
    "# Creating an object of the Student class\n",
    "student1 = Student(\"Shehreen\", 85)\n",
    "    \n",
    "# Calling the display method to print student details\n",
    "student1.display()"
   ]
  },
  {
   "cell_type": "markdown",
   "id": "ce90edaf",
   "metadata": {},
   "source": [
    "<h1 style=\"color: LightSeaGreen;\"><b><i>2. Using cls</i></b></h1>\n",
    "Assignment: Create a class Counter that keeps track of how many objects have been created. Use a class variable and a class method with cls to manage and display the count."
   ]
  },
  {
   "cell_type": "code",
   "execution_count": null,
   "id": "fdb212b8",
   "metadata": {},
   "outputs": [],
   "source": [
    "class Counter():\n",
    "    count = 0\n",
    "\n",
    "    def __init__(self):\n",
    "        Counter.count += 1\n",
    "    \n",
    "    @classmethod\n",
    "    def display_count(cls):\n",
    "        print(f\"Total objects created: {cls.count}\")\n",
    "\n",
    "# Creating objects of the Counter class\n",
    "obj1 = Counter()\n",
    "obj2 = Counter()\n",
    "obj3 = Counter()\n",
    "# Calling the class method to display the count of objects\n",
    "Counter.display_count()"
   ]
  },
  {
   "cell_type": "markdown",
   "id": "f06f6598",
   "metadata": {},
   "source": [
    "<h1 style=\"color: LightSeaGreen;\"><b><i>3. Public Variables and Methods</i></b></h1>\n",
    "Assignment:\n",
    "Create a class Car with a public variable brand and a public method start(). Instantiate the class and access both from outside the class."
   ]
  },
  {
   "cell_type": "code",
   "execution_count": null,
   "id": "c26af308",
   "metadata": {},
   "outputs": [],
   "source": [
    "class Car():\n",
    "    def __init__(self, brand, speed):\n",
    "        self.brand = brand\n",
    "        self.speed = speed\n",
    "\n",
    "    def display(self):\n",
    "        print(f\"Car Details:\")\n",
    "        print(f\"Car Brand: {self.brand}\\nCar Speed: {self.speed} km/h\")\n",
    "\n",
    "# Creating an object of the Car class\n",
    "car1 = Car(\"Toyota\", 180)\n",
    "# Calling the display method to print car details\n",
    "car1.display()"
   ]
  },
  {
   "cell_type": "markdown",
   "id": "99ac8637",
   "metadata": {},
   "source": [
    "<h1 style=\"color: LightSeaGreen;\"><b><i>4. Class Variables and Class Methods</i></b></h1>\n",
    "Assignment:\n",
    "Create a class Bank with a class variable bank_name. Add a class method change_bank_name(cls, name) that allows changing the bank name. Show that it affects all instances."
   ]
  },
  {
   "cell_type": "code",
   "execution_count": null,
   "id": "a7506c7e",
   "metadata": {},
   "outputs": [],
   "source": [
    "class Bank():\n",
    "    bank_name = \"National Bank of Pakistan\" # Class variable (shared by all instances)\n",
    "\n",
    "\n",
    "    def __init__(self, account_holder):\n",
    "        self.account_holder = account_holder\n",
    "        \n",
    "    def show_details(self):\n",
    "        print(f\"Bank Name: {Bank.bank_name}\")\n",
    "        print(f\"Account Holder: {self.account_holder}\")\n",
    "\n",
    "    @classmethod\n",
    "    def change_bank_name(cls, new_name): # Class method to change the bank name\n",
    "        Bank.bank_name = new_name\n",
    "        \n",
    "## Create two bank accounts\n",
    "acc1 = Bank(\"Shehreen\")\n",
    "acc2 = Bank(\"Ayaan\")\n",
    "\n",
    "# Show original bank name\n",
    "print(\"Before changing bank name:\\n\")\n",
    "acc1.show_details()\n",
    "acc2.show_details()\n",
    "\n",
    "# Change the bank name using class method\n",
    "Bank.change_bank_name(\"Habib Bank Limited\")\n",
    "\n",
    "# Show updated bank name (should reflect in all instances)\n",
    "print(\"\\nAfter changing bank name:\\n\")\n",
    "acc1.show_details()\n",
    "acc2.show_details()\n",
    "\n",
    "    "
   ]
  },
  {
   "cell_type": "markdown",
   "id": "8c406cd4",
   "metadata": {},
   "source": [
    "<h1 style=\"color: LightSeaGreen;\"><b><i>5. Static Variables and Static Methods</i></b></h1>\n",
    "Assignment:\n",
    "Create a class MathUtils with a static method add(a, b) that returns the sum. No class or instance variables should be used."
   ]
  },
  {
   "cell_type": "code",
   "execution_count": null,
   "id": "2dd25ae5",
   "metadata": {},
   "outputs": [],
   "source": [
    "class MathUtils():\n",
    "    @staticmethod\n",
    "    def add(a: float, b: float) -> float:\n",
    "        \"\"\"Sums two numers and returns the result. if input is not a number, returns an error message.\"\"\"\n",
    "        try:\n",
    "            return a + b\n",
    "        except TypeError:\n",
    "            return \"Error: Both inputs must be numbers.\"\n",
    "        \n",
    "result = MathUtils.add(5, 10) \n",
    "print(f\"Result of addition: {result}\") \n",
    "MathUtils.add(\"5\", 10) # This will return an error message"
   ]
  },
  {
   "cell_type": "markdown",
   "id": "e4817bb6",
   "metadata": {},
   "source": [
    "<h1 style=\"color: LightSeaGreen;\"><b><i>6. Constructors and Destructors</i></b></h1>\n",
    "Assignment:\n",
    "Create a class Logger that prints a message when an object is created (constructor) and another message when it is destroyed (destructor)."
   ]
  },
  {
   "cell_type": "code",
   "execution_count": null,
   "id": "6dc2b4e3",
   "metadata": {},
   "outputs": [],
   "source": [
    "class Logger:\n",
    "    def __init__(self):\n",
    "        self.log_messages = []  # Initialize the list to store log messages\n",
    "        print(\"📥 Logger initialized — Ready to log messages.\")\n",
    "\n",
    "    def log(self, message):\n",
    "        \"\"\"Logs a message to the console and stores it.\"\"\"\n",
    "        if not isinstance(message, str):\n",
    "            raise ValueError(\"Message must be a string.\")\n",
    "\n",
    "        self.log_messages.append(message)\n",
    "        print(f\"📜 Log: {message}\")\n",
    "\n",
    "    def __del__(self):\n",
    "        print(\"🗑️ Logger destroyed — Logging session ended.\")\n",
    "\n",
    "# Example usage of the Logger class\n",
    "logger = Logger()\n",
    "\n",
    "logger.log(\"System started.\")\n",
    "logger.log(\"User logged in.\")\n",
    "logger.log(\"Warning: Low memory.\")\n",
    "\n",
    "del logger\n"
   ]
  },
  {
   "cell_type": "markdown",
   "id": "b57cef30",
   "metadata": {},
   "source": [
    "<h1 style=\"color: LightSeaGreen;\"><b><i>7. Access Modifiers: Public, Private, and Protected</i></b></h1>\n",
    "Assignment:\n",
    "Create a class Employee with:\n",
    "\n",
    "a public variable name,\n",
    "\n",
    "a protected variable _salary, and\n",
    "\n",
    "a private variable __ssn.\n",
    "\n",
    "Try accessing all three variables from an object of the class and document what happens."
   ]
  },
  {
   "cell_type": "code",
   "execution_count": null,
   "metadata": {},
   "outputs": [],
   "source": [
    "class Employee():\n",
    "    def __init__(self, name, salary, ssn):\n",
    "        self.name = name            # Public attribute\n",
    "        self._salary = salary       # Protected attribute\n",
    "        self.__ssn = ssn            # Private attribute\n",
    "\n",
    "emp = Employee(\"Alice\", 50000, \"123-45-6789\")\n",
    "\n",
    "# Public variable access\n",
    "print(\"Public (name):\", emp.name)           # ✅ Accessible\n",
    "\n",
    "# Protected variable access\n",
    "print(\"Protected (_salary):\", emp._salary)  # ⚠️ Accessible, but discouraged\n",
    "\n",
    "# Private variable access\n",
    "try:\n",
    "    print(\"Private (__ssn):\", emp.__ssn)    # ❌ Should raise AttributeError\n",
    "except AttributeError as e:\n",
    "    print(\"Private (__ssn) Error:\", e)\n",
    "\n",
    "# Access private using name mangling\n",
    "print(\"Private (__ssn via mangling):\", emp._Employee__ssn)  # ✅ Works, but discouraged"
   ]
  },
  {
   "cell_type": "markdown",
   "id": "7311447b",
   "metadata": {},
   "source": [
    "## ✅ Observations\n",
    "\n",
    "| Variable     | Access Style             | Result                | Explanation                                         |\n",
    "|--------------|--------------------------|------------------------|-----------------------------------------------------|\n",
    "| `name`       | `emp.name`               | ✅ Works              | Public variable                                     |\n",
    "| `_salary`    | `emp._salary`            | ⚠️ Works (not recommended) | Protected variable (intended for internal use)     |\n",
    "| `__ssn`      | `emp.__ssn`              | ❌ Error              | Private variable, raises AttributeError             |\n",
    "| `__ssn`      | `emp._Employee__ssn`     | ✅ Works              | Name mangling bypass, but should be avoided         |\n"
   ]
  },
  {
   "cell_type": "markdown",
   "id": "796f47f6",
   "metadata": {},
   "source": [
    "<h1 style=\"color: LightSeaGreen;\"><b><i>8. The super() Function</i></b></h1>\n",
    "Assignment:\n",
    "Create a class Person with a constructor that sets the name. Inherit a class Teacher from it, add a subject field, and use super() to call the base class constructor."
   ]
  },
  {
   "cell_type": "code",
   "execution_count": null,
   "id": "9deb9340",
   "metadata": {},
   "outputs": [],
   "source": [
    "class Person():\n",
    "    def __init__(self, name):\n",
    "        self.name = name\n",
    "       \n",
    "class Teacher(Person):   # Inheriting from Person class\n",
    "    def __init__(self, name, subject):\n",
    "        super().__init__(name)  # Call the constructor of the parent class\n",
    "        self.subject = subject\n",
    "       \n",
    "    def display(self):\n",
    "        print(f\"Teacher Name: {self.name}, Subject: {self.subject}\")\n",
    "\n",
    "# Creating an object of the Teacher class\n",
    "teacher = Teacher(\"Shehreen\", \"Agentic AI Engineering\")\n",
    "# Calling the display method to print teacher details   \n",
    "teacher.display()"
   ]
  },
  {
   "cell_type": "markdown",
   "id": "7503bc2c",
   "metadata": {},
   "source": [
    "<h1 style=\"color: LightSeaGreen;\"><b><i>9. Abstract Classes and Methods</i></b></h1>\n",
    "Assignment:\n",
    "Use the abc module to create an abstract class Shape with an abstract method area(). Inherit a class Rectangle that implements area()."
   ]
  },
  {
   "cell_type": "code",
   "execution_count": null,
   "id": "12fe1fd9",
   "metadata": {},
   "outputs": [],
   "source": [
    "from abc import ABC, abstractmethod\n",
    "\n",
    "# Abstract class\n",
    "class Shape(ABC):\n",
    "    \n",
    "    @abstractmethod\n",
    "    def area(self):\n",
    "        pass  # Must be implemented by subclasses\n",
    "\n",
    "# Subclass: Rectangle\n",
    "class Rectangle(Shape):\n",
    "    def __init__(self, width, height):\n",
    "        self.width = width\n",
    "        self.height = height\n",
    "\n",
    "    def area(self):\n",
    "        return self.width * self.height\n",
    "\n",
    "# Testing the Rectangle class\n",
    "rect = Rectangle(5, 10)\n",
    "print(\"Total Area of Rectangle is:\", rect.area())  # Output: 50"
   ]
  },
  {
   "cell_type": "markdown",
   "id": "6903ebfd",
   "metadata": {},
   "source": [
    "<h1 style=\"color: LightSeaGreen;\"><b><i>10. Instance Methods</i></b></h1>\n",
    "Assignment:\n",
    "Create a class Dog with instance variables name and breed. Add an instance method bark() that prints a message including the dog's name."
   ]
  },
  {
   "cell_type": "code",
   "execution_count": null,
   "id": "ccbaccdf",
   "metadata": {},
   "outputs": [],
   "source": [
    "class Dog:\n",
    "    def __init__(self, name, breed):\n",
    "        self.name = name      # Instance variable\n",
    "        self.breed = breed    # Instance variable\n",
    "\n",
    "    def bark(self):  # Instance method\n",
    "        print(f\"{self.name}, the {self.breed}, says: Woof woof! 🐾\")\n",
    "\n",
    "# Creating an object of the Dog class\n",
    "dog1 = Dog(\"Buddy\", \"Golden Retriever\")\n",
    "dog2 = Dog(\"Max\", \"Bulldog\")\n",
    "dog3 = Dog(\"Bella\", \"Poodle\")\n",
    "# Calling the bark method\n",
    "dogs = [dog1, dog2, dog3]\n",
    "for dog in dogs:\n",
    "    dog.bark()"
   ]
  },
  {
   "cell_type": "markdown",
   "id": "a5313236",
   "metadata": {},
   "source": [
    "<h1 style=\"color: LightSeaGreen;\"><b><i>11. Class Methods</i></b></h1>\n",
    "Assignment:\n",
    "Create a class Book with a class variable total_books. Add a class method increment_book_count() to increase the count when a new book is added."
   ]
  },
  {
   "cell_type": "code",
   "execution_count": null,
   "id": "0ac93545",
   "metadata": {},
   "outputs": [],
   "source": [
    "class Book:\n",
    "    total_books = 0  # Class variable to track total books\n",
    "\n",
    "    def __init__(self, title, author):\n",
    "        self.title = title\n",
    "        self.author = author\n",
    "        Book.increment_book_count()  # Call class method when a book is added\n",
    "\n",
    "    def display(self):\n",
    "        print(f\"📘 '{self.title}' by {self.author}\")\n",
    "\n",
    "    @classmethod\n",
    "    def increment_book_count(cls):\n",
    "        cls.total_books += 1\n",
    "\n",
    "    @classmethod\n",
    "    def show_total_books(cls):\n",
    "        print(f\"📚 Total books added: {cls.total_books}\")\n",
    "# Creating book objects\n",
    "book1 = Book(\"1984\", \"George Orwell\")\n",
    "book2 = Book(\"To Kill a Mockingbird\", \"Harper Lee\")\n",
    "book3 = Book(\"The Great Gatsby\", \"F. Scott Fitzgerald\")\n",
    "# Displaying book details\n",
    "book1.display()\n",
    "book2.display()\n",
    "book3.display()\n",
    "# Showing total books added\n",
    "Book.show_total_books()  # Output: 3"
   ]
  },
  {
   "cell_type": "markdown",
   "id": "f3109777",
   "metadata": {},
   "source": [
    "<h1 style=\"color: LightSeaGreen;\"><b><i>12. Static Methods</i></b></h1>\n",
    "Assignment:\n",
    "Create a class TemperatureConverter with a static method celsius_to_fahrenheit(c) that returns the Fahrenheit value."
   ]
  },
  {
   "cell_type": "code",
   "execution_count": null,
   "id": "10ab17bc",
   "metadata": {},
   "outputs": [],
   "source": [
    "class TempratureConverter:\n",
    "    @staticmethod\n",
    "    def celsius_to_fahrenheit(c: float) -> float:\n",
    "        \"\"\"Converts Celsius to Fahrenheit.\"\"\"\n",
    "        return (c * 9/5) + 32\n",
    "\n",
    "cel_temp = 25\n",
    "print(f\"{cel_temp}°C is equal to {TempratureConverter.celsius_to_fahrenheit(cel_temp)}°F\")"
   ]
  },
  {
   "cell_type": "markdown",
   "id": "1cc04d90",
   "metadata": {},
   "source": [
    "<h1 style=\"color: LightSeaGreen;\"><b><i>13. Composition</i></b></h1>\n",
    "Assignment:\n",
    "Create a class Engine and a class Car. Use composition by passing an Engine object to the Car class during initialization. Access a method of the Engine class via the Car class."
   ]
  },
  {
   "cell_type": "code",
   "execution_count": null,
   "id": "4405c149",
   "metadata": {},
   "outputs": [],
   "source": [
    "class Engine():\n",
    "    def start(self):\n",
    "        print(\"Engine started.\")\n",
    "\n",
    "class Car():\n",
    "    def __init__(self):\n",
    "        self.engine = Engine()  # Composition: Car has an Engine\n",
    "\n",
    "    def start(self):\n",
    "        self.engine.start()  # Delegation: Car delegates starting to Engine\n",
    "        print(\"Car is ready to go!\")\n",
    "\n",
    "# Creating a Car object\n",
    "my_car = Car()\n",
    "# Starting the car\n",
    "my_car.start()  # Output: Engine started. Car is ready to go!\n"
   ]
  },
  {
   "cell_type": "markdown",
   "id": "8fdc55cd",
   "metadata": {},
   "source": [
    "<h1 style=\"color: LightSeaGreen;\"><b><i>14. Aggregation</i></b></h1>\n",
    "Assignment:\n",
    "Create a class Department and a class Employee. Use aggregation by having a Department object store a reference to an Employee object that exists independently of it."
   ]
  },
  {
   "cell_type": "code",
   "execution_count": null,
   "id": "fc71a0dc",
   "metadata": {},
   "outputs": [],
   "source": [
    "class Employee():\n",
    "    def __init__(self, name, emp_id, salary):\n",
    "        self.name = name\n",
    "        self.emp_id = emp_id\n",
    "        self.salary = salary\n",
    "\n",
    "    def get_info(self):\n",
    "        return f\"Employee Name: {self.name}, ID: {self.emp_id}, Salary: {self.salary}\"\n",
    "    \n",
    "class Department():\n",
    "    def __init__(self, dept_name):\n",
    "        self.dept_name = dept_name\n",
    "        self.employees = []  # List to hold employee objects\n",
    "\n",
    "    def add_employee(self, emp):\n",
    "        if isinstance(emp, Employee): # Check if emp is an instance of Employee\n",
    "            # Add employee to the list\n",
    "            self.employees.append(emp)\n",
    "        else:\n",
    "            print(\"Error: Only Employee objects can be added.\")\n",
    "\n",
    "    def show_employees(self):\n",
    "        print(f\"Department: {self.dept_name}\\nTotal Employees:\")\n",
    "        if not self.employees:\n",
    "            print(\"No employees in this department.\")\n",
    "            return\n",
    "        for emp in self.employees:\n",
    "            print(emp.get_info())\n",
    "\n",
    "# Creating Employee objects\n",
    "emp1 = Employee(\"Shehreen\", 101, 50000)\n",
    "emp2 = Employee(\"Sara\", 102, 60000)\n",
    "emp3 = Employee(\"Ali\", 103, 70000)\n",
    "# Creating a Department object\n",
    "dept = Department(\"Engineering\")\n",
    "employee_list = [emp1, emp2, emp3]\n",
    "# Adding employees to the department    \n",
    "for emp in employee_list:\n",
    "    dept.add_employee(emp)\n",
    "\n",
    "# Displaying department and employee details\n",
    "dept.show_employees()"
   ]
  },
  {
   "cell_type": "markdown",
   "id": "e8ac3390",
   "metadata": {},
   "source": [
    "<h1 style=\"color: LightSeaGreen;\"><b><i>15. Method Resolution Order (MRO) and Diamond Inheritance</i></b></h1>\n",
    "Assignment:\n",
    "Create four classes:\n",
    "\n",
    "A with a method show(),\n",
    "\n",
    "B and C that inherit from A and override show(),\n",
    "\n",
    "D that inherits from both B and C.\n",
    "\n",
    "Create an object of D and call show() to observe MRO.\n",
    "\n"
   ]
  },
  {
   "cell_type": "code",
   "execution_count": null,
   "id": "ab8f56c1",
   "metadata": {},
   "outputs": [],
   "source": [
    "class A():\n",
    "    def show(self):\n",
    "        print(\"Class A method called.\")\n",
    "\n",
    "class B(A):\n",
    "    def show(self):\n",
    "        print(\"Class B method called.\") \n",
    "        super().show()\n",
    "\n",
    "class C(A):\n",
    "    def show(self):\n",
    "        print(\"Class C method called.\")\n",
    "        super().show()\n",
    "\n",
    "class D(B, C):\n",
    "    def show(self):\n",
    "        print(\"Class D method called.\")\n",
    "        super().show()  # Calls the method from the first parent class (B)\n",
    "       \n",
    "\n",
    "# Creating an object of class D\n",
    "obj = D()\n",
    "# Calling the show method\n",
    "obj.show()  # Output: Class D method called. Class B method called. Class C method called.\n",
    "# Display the Method Resolution Order\n",
    "print(\"\\nMethod Resolution Order:\")\n",
    "for cls in D.__mro__:\n",
    "    print(cls.__name__)"
   ]
  },
  {
   "cell_type": "markdown",
   "id": "740b5e42",
   "metadata": {},
   "source": [
    "<h1 style=\"color: LightSeaGreen;\"><b><i>16. Function Decorators</i></b></h1>\n",
    "Assignment:\n",
    "Write a decorator function log_function_call that prints \"Function is being called\" before a function executes. Apply it to a function say_hello()."
   ]
  },
  {
   "cell_type": "code",
   "execution_count": 2,
   "id": "b6b82d2e",
   "metadata": {},
   "outputs": [
    {
     "name": "stdout",
     "output_type": "stream",
     "text": [
      "Function is being called before: say_hello\n",
      "Hello, Shehreen!\n"
     ]
    }
   ],
   "source": [
    "def log_function_call(func):\n",
    "    \"\"\"Decorator to log function calls.\"\"\"\n",
    "    def wrapper(*args, **kwargs):  # This function wraps the original function\n",
    "        print(f\"Function is being called before: {func.__name__}\")\n",
    "        return func(*args, **kwargs)\n",
    "    return wrapper\n",
    "\n",
    "@log_function_call  # Applying the decorator\n",
    "def say_hello(name):\n",
    "    \"\"\"Function to say hello.\"\"\"\n",
    "    print(f\"Hello, {name}!\")\n",
    "\n",
    "# Calling the decorated function\n",
    "say_hello(\"Shehreen\")  "
   ]
  },
  {
   "cell_type": "markdown",
   "id": "d9db4472",
   "metadata": {},
   "source": [
    "<h1 style=\"color: LightSeaGreen;\"><b><i>17. Class Decorators</i></b></h1>\n",
    "Assignment:\n",
    "Create a class decorator add_greeting that modifies a class to add a greet() method returning \"Hello from Decorator!\". Apply it to a class Person."
   ]
  },
  {
   "cell_type": "code",
   "execution_count": 1,
   "id": "28421e3e",
   "metadata": {},
   "outputs": [
    {
     "name": "stdout",
     "output_type": "stream",
     "text": [
      "Person object created: Shehreen\n"
     ]
    },
    {
     "data": {
      "text/plain": [
       "'Hello from Decorator!'"
      ]
     },
     "execution_count": 1,
     "metadata": {},
     "output_type": "execute_result"
    }
   ],
   "source": [
    "def add_greeting(cls):\n",
    "    \"\"\"Decorator to add a greeting method to a class.\"\"\"\n",
    "    def greeting(self):\n",
    "        return \"Hello from Decorator!\"\n",
    "    \n",
    "    cls.greet = greeting  # Add the new method to the class\n",
    "    return cls\n",
    "\n",
    "@add_greeting\n",
    "class Person():\n",
    "    def __init__(self, name):\n",
    "        self.name = name\n",
    "        print(f\"Person object created: {self.name}\")\n",
    "\n",
    "# Creating an object of the Person class\n",
    "person = Person(\"Shehreen\")\n",
    "person.greet()  # Calling the added method"
   ]
  },
  {
   "cell_type": "markdown",
   "id": "84f4d222",
   "metadata": {},
   "source": [
    "<h1 style=\"color: LightSeaGreen;\"><b><i>18. Property Decorators: @property, @setter, and @deleter</i></b></h1>\n",
    "Assignment:\n",
    "Create a class Product with a private attribute _price. Use @property to get the price, @price.setter to update it, and @price.deleter to delete it."
   ]
  },
  {
   "cell_type": "code",
   "execution_count": null,
   "id": "095ffe4e",
   "metadata": {},
   "outputs": [],
   "source": [
    "class Product():\n",
    "    def __init__(self, price):\n",
    "        self._price = price  # Protected attribute\n",
    "\n",
    "    @property\n",
    "    def price(self):\n",
    "        \"\"\"Getter for price.\"\"\"\n",
    "        return self._price\n",
    "    \n",
    "    @price.setter\n",
    "    def price(self, new_price):\n",
    "        \"\"\"Setter for price.\"\"\"\n",
    "        if new_price < 0:\n",
    "            raise ValueError(\"Price cannot be negative.\")\n",
    "        self._price = new_price\n",
    "\n",
    "    @price.deleter\n",
    "    def price(self):\n",
    "        print(\"Deleting price...\")\n",
    "        del self._price\n",
    "\n",
    "p = Product(100)\n",
    "\n",
    "# Get price\n",
    "print(p.price)  \n",
    "\n",
    "# Set new price\n",
    "p.price = 150\n",
    "print(p.price)  \n",
    "\n",
    "# Try setting a negative price\n",
    "# p.price = -10  # ❌ Will raise ValueError\n",
    "\n",
    "# Delete price\n",
    "del p.price  "
   ]
  },
  {
   "cell_type": "markdown",
   "id": "0a6a1e94",
   "metadata": {},
   "source": [
    "<h1 style=\"color: LightSeaGreen;\"><b><i>19. callable() and __call__()</i></b></h1>\n",
    "Assignment:\n",
    "Create a class Multiplier with an __init__() to set a factor. Define a __call__() method that multiplies an input by the factor. Test it with callable() and by calling the object like a function.\n",
    "\n"
   ]
  },
  {
   "cell_type": "code",
   "execution_count": null,
   "id": "b5094019",
   "metadata": {},
   "outputs": [],
   "source": [
    "class Multiplier():\n",
    "    def __init__(self, factor):\n",
    "        self.factor = factor\n",
    "        print(f\"Multiplier initialized with factor: {self.factor}\")\n",
    "\n",
    "    def __call__(self, value):\n",
    "        \"\"\"Make the object callable.\"\"\"\n",
    "        result = value * self.factor\n",
    "        return print(f\"Multiplying {value} by {self.factor} gives: {result}\")\n",
    "    \n",
    "# Creating an object of Multiplier\n",
    "multi_by_5 = Multiplier(5)\n",
    "\n",
    "#\n",
    "print(callable(multi_by_5))  \n",
    "# Using the object as a function\n",
    "result = multi_by_5(10)  \n",
    "\n"
   ]
  },
  {
   "cell_type": "markdown",
   "id": "26a9208a",
   "metadata": {},
   "source": [
    "<h1 style=\"color: LightSeaGreen;\"><b><i>20. Creating a Custom Exception</i></b></h1>\n",
    "Assignment:\n",
    "Create a custom exception InvalidAgeError. Write a function check_age(age) that raises this exception if age < 18. Handle it with try...except."
   ]
  },
  {
   "cell_type": "code",
   "execution_count": null,
   "id": "abcf8efe",
   "metadata": {},
   "outputs": [],
   "source": [
    "# Custom exception class\n",
    "\n",
    "class InvalidAgeError(Exception):\n",
    "    \"\"\"Custom exception for invalid age.\"\"\"\n",
    "    def __init__(self, age):\n",
    "        super().__init__(f\"❌ Age must be at least 18. You entered: {age}\")\n",
    "\n",
    "# Function to check age\n",
    "def check_age(age):\n",
    "    if age < 18:\n",
    "        raise InvalidAgeError(age)\n",
    "    else:\n",
    "        print(f\"✅ Age {age} is valid. You may proceed.\")\n",
    "\n",
    "# Input and try-except\n",
    "try:\n",
    "    input_age = input(\"Enter your age: \")\n",
    "    age = int(input_age)\n",
    "    check_age(age)\n",
    "except InvalidAgeError as e:\n",
    "    print(e)\n",
    "except ValueError:\n",
    "    print(\"❌ Invalid input. Please enter a valid number.\")\n"
   ]
  },
  {
   "cell_type": "markdown",
   "id": "d8ed2f57",
   "metadata": {},
   "source": [
    "<h1 style=\"color: LightSeaGreen;\"><b><i>21. Make a Custom Class Iterable</i></b></h1>\n",
    "Assignment:\n",
    "Create a class Countdown that takes a start number. Implement __iter__() and __next__() to make the object iterable in a for-loop, counting down to 0."
   ]
  },
  {
   "cell_type": "code",
   "execution_count": 9,
   "id": "9a0b7a88",
   "metadata": {},
   "outputs": [
    {
     "name": "stdout",
     "output_type": "stream",
     "text": [
      "🚀 Countdown:\n",
      "5\n",
      "4\n",
      "3\n",
      "2\n",
      "1\n",
      "0\n"
     ]
    }
   ],
   "source": [
    "class Countdown:\n",
    "    def __init__(self, start):\n",
    "        self.start = start\n",
    "        self.current = start  # we count down from here\n",
    "\n",
    "    def __iter__(self):\n",
    "        return self  # this object is the iterator\n",
    "\n",
    "    def __next__(self):\n",
    "        if self.current < 0:\n",
    "            raise StopIteration  # stop when below 0\n",
    "        value = self.current\n",
    "        self.current -= 1\n",
    "        return value\n",
    "\n",
    "# ✅ Using the custom Countdown class\n",
    "cd = Countdown(5)\n",
    "\n",
    "print(\"🚀 Countdown:\")\n",
    "for num in cd:\n",
    "    print(num)\n"
   ]
  }
 ],
 "metadata": {
  "kernelspec": {
   "display_name": "base",
   "language": "python",
   "name": "python3"
  },
  "language_info": {
   "codemirror_mode": {
    "name": "ipython",
    "version": 3
   },
   "file_extension": ".py",
   "mimetype": "text/x-python",
   "name": "python",
   "nbconvert_exporter": "python",
   "pygments_lexer": "ipython3",
   "version": "3.12.7"
  }
 },
 "nbformat": 4,
 "nbformat_minor": 5
}
